{
 "cells": [
  {
   "cell_type": "code",
   "execution_count": 1,
   "id": "0afd0427-60ce-45c0-aca2-35b73ad87f70",
   "metadata": {},
   "outputs": [
    {
     "name": "stdin",
     "output_type": "stream",
     "text": [
      "Enter a number : 45\n"
     ]
    },
    {
     "name": "stdout",
     "output_type": "stream",
     "text": [
      "45 x 1 = 45\n",
      "45 x 2 = 90\n",
      "45 x 3 = 135\n",
      "45 x 4 = 180\n",
      "45 x 5 = 225\n",
      "45 x 6 = 270\n",
      "45 x 7 = 315\n",
      "45 x 8 = 360\n",
      "45 x 9 = 405\n",
      "45 x 10 = 450\n"
     ]
    }
   ],
   "source": [
    "#Task 3\n",
    "''' 17. Table of a Number\n",
    "Objective: Print the multiplication table for a given number nnn.\n",
    "Input: An integer nnn.\n",
    "Output: Multiplication table from 111 to 101010.\n",
    "Hint: Use a loop to iterate through values 1 to 10 and multiply by nnn.'''\n",
    "n = int(input(\"Enter a number :\"))\n",
    "def print_table(n):\n",
    "    for i in range(1, 11):\n",
    "        print(f\"{n} x {i} = {n * i}\")\n",
    "print_table(n)"
   ]
  },
  {
   "cell_type": "code",
   "execution_count": 2,
   "id": "3f31ab98-8bd1-4a3d-867f-2224467fff47",
   "metadata": {},
   "outputs": [
    {
     "name": "stdin",
     "output_type": "stream",
     "text": [
      "Enter the value of a : 30\n",
      "Enter the value of b : 60\n"
     ]
    },
    {
     "name": "stdout",
     "output_type": "stream",
     "text": [
      "Swapped values: a = 60.0, b = 30.0\n"
     ]
    }
   ],
   "source": [
    "# Task3\n",
    "'''18. Swap Two Numbers\n",
    "Objective: Swap two numbers without using a third variable.\n",
    "Input: Two integers aaa and bbb.\n",
    "Output: Swapped values of aaa and bbb.\n",
    "Hint: Use arithmetic operations like addition and subtraction or XOR (a, b = b, a).'''\n",
    "a = float(input(\"Enter the value of a :\"))\n",
    "b = float(input(\"Enter the value of b :\"))       \n",
    "def swap_numbers(a, b):\n",
    "    a, b = b, a\n",
    "    return a, b\n",
    "a, b = swap_numbers(a,b)\n",
    "print(f\"Swapped values: a = {a}, b = {b}\")\n"
   ]
  },
  {
   "cell_type": "code",
   "execution_count": 3,
   "id": "bd47fe09-7d3e-498c-9d17-01d71ebf1f67",
   "metadata": {},
   "outputs": [
    {
     "name": "stdin",
     "output_type": "stream",
     "text": [
      "Enter main string:  program\n",
      "Enter substring to check:  gram\n"
     ]
    },
    {
     "name": "stdout",
     "output_type": "stream",
     "text": [
      "'gram' is a substring of 'program'\n"
     ]
    }
   ],
   "source": [
    "#Task3\n",
    "'''19. Check Substring\n",
    "Objective: Determine if one string is a substring of another.\n",
    "Input: Two strings s1s1s1 (main string) and s2s2s2 (substring).\n",
    "Output: True if s2s2s2 is a substring of s1s1s1, otherwise False.\n",
    "Hint: Use Python's in operator or string slicing to search for substrings.'''\n",
    "def check_substring(s1, s2):\n",
    "    return s2 in s1\n",
    "main_string = input(\"Enter main string: \")\n",
    "sub_string = input(\"Enter substring to check: \")\n",
    "if check_substring(main_string, sub_string):\n",
    "    print(f\"'{sub_string}' is a substring of '{main_string}'\")\n",
    "else:\n",
    "    print(f\"'{sub_string}' is NOT a substring of '{main_string}'\")\n"
   ]
  },
  {
   "cell_type": "code",
   "execution_count": 4,
   "id": "2551f5b0-39ea-4fdf-8d9f-37e39e0faa3d",
   "metadata": {},
   "outputs": [
    {
     "name": "stdin",
     "output_type": "stream",
     "text": [
      "Enter a decimal number:  12\n"
     ]
    },
    {
     "name": "stdout",
     "output_type": "stream",
     "text": [
      "Binary representation: 1100\n"
     ]
    }
   ],
   "source": [
    "#Task3\n",
    "'''20. Decimal to Binary\n",
    "Objective: Convert a decimal number to its binary representation.\n",
    "Input: An integer nnn.\n",
    "Output: A string representing the binary equivalent.\n",
    "Hint: Use the bin() function or repeatedly divide nnn by 2, storing remainders.'''\n",
    "# Convert a decimal number to binary\n",
    "def decimal_to_binary(n):\n",
    "    return bin(n)[2:]\n",
    "\n",
    "# Input from user\n",
    "n = int(input(\"Enter a decimal number: \"))\n",
    "\n",
    "# Output\n",
    "print(\"Binary representation:\", decimal_to_binary(n))\n"
   ]
  },
  {
   "cell_type": "code",
   "execution_count": 7,
   "id": "90d5961b-7ef3-44ff-a9fd-61839c58af74",
   "metadata": {},
   "outputs": [
    {
     "name": "stdin",
     "output_type": "stream",
     "text": [
      "Enter number of rows:  3\n",
      "Enter number of columns:  3\n"
     ]
    },
    {
     "name": "stdout",
     "output_type": "stream",
     "text": [
      "Enter Matrix A:\n"
     ]
    },
    {
     "name": "stdin",
     "output_type": "stream",
     "text": [
      "A[0][0]:  1\n",
      "A[0][1]:  2\n",
      "A[0][2]:  3\n",
      "A[1][0]:  4\n",
      "A[1][1]:  5\n",
      "A[1][2]:  6\n",
      "A[2][0]:  7\n",
      "A[2][1]:  8\n",
      "A[2][2]:  9\n"
     ]
    },
    {
     "name": "stdout",
     "output_type": "stream",
     "text": [
      "Enter Matrix B:\n"
     ]
    },
    {
     "name": "stdin",
     "output_type": "stream",
     "text": [
      "B[0][0]:  9\n",
      "B[0][1]:  8\n",
      "B[0][2]:  7\n",
      "B[1][0]:  6\n",
      "B[1][1]:  5\n",
      "B[1][2]:  4\n",
      "B[2][0]:  3\n",
      "B[2][1]:  2\n",
      "B[2][2]:  1\n"
     ]
    },
    {
     "name": "stdout",
     "output_type": "stream",
     "text": [
      "Resultant Matrix after Addition:\n",
      "[10, 10, 10]\n",
      "[10, 10, 10]\n",
      "[10, 10, 10]\n"
     ]
    }
   ],
   "source": [
    "#Task3\n",
    "'''21. Matrix Addition\n",
    "Objective: Add two matrices of the same dimensions.\n",
    "Input: Two 2D lists (matrices) of integers.\n",
    "Output: A 2D list containing the sum of corresponding elements.\n",
    "Hint: Use nested loops to iterate through rows and columns, adding corresponding\n",
    "elements.'''\n",
    "# Add two matrices\n",
    "def add_matrices(A, B):\n",
    "    result = []\n",
    "    for i in range(len(A)):\n",
    "        row = []\n",
    "        for j in range(len(A[0])):\n",
    "            row.append(A[i][j] + B[i][j])\n",
    "        result.append(row)\n",
    "    return result\n",
    "rows = int(input(\"Enter number of rows: \"))\n",
    "cols = int(input(\"Enter number of columns: \"))\n",
    "print(\"Enter Matrix A:\")\n",
    "A = [[int(input(f\"A[{i}][{j}]: \")) for j in range(cols)] for i in range(rows)]\n",
    "print(\"Enter Matrix B:\")\n",
    "B = [[int(input(f\"B[{i}][{j}]: \")) for j in range(cols)] for i in range(rows)]\n",
    "print(\"Resultant Matrix after Addition:\")\n",
    "result = add_matrices(A, B)\n",
    "for row in result:\n",
    "    print(row)"
   ]
  },
  {
   "cell_type": "code",
   "execution_count": 8,
   "id": "aeda672b-3e9f-4481-a3d9-4c84efbef4ae",
   "metadata": {},
   "outputs": [
    {
     "name": "stdin",
     "output_type": "stream",
     "text": [
      "Enter rows for Matrix A:  2\n",
      "Enter columns for Matrix A:  2\n",
      "Enter columns for Matrix B:  2\n"
     ]
    },
    {
     "name": "stdout",
     "output_type": "stream",
     "text": [
      "Enter Matrix A:\n"
     ]
    },
    {
     "name": "stdin",
     "output_type": "stream",
     "text": [
      "A[0][0]:  55\n",
      "A[0][1]:  66\n",
      "A[1][0]:  77\n",
      "A[1][1]:  88\n"
     ]
    },
    {
     "name": "stdout",
     "output_type": "stream",
     "text": [
      "Enter Matrix B:\n"
     ]
    },
    {
     "name": "stdin",
     "output_type": "stream",
     "text": [
      "B[0][0]:  99\n",
      "B[0][1]:  22\n",
      "B[1][0]:  11\n",
      "B[1][1]:  10\n"
     ]
    },
    {
     "name": "stdout",
     "output_type": "stream",
     "text": [
      "Resultant Matrix after Multiplication:\n",
      "[6171, 1870]\n",
      "[8591, 2574]\n"
     ]
    }
   ],
   "source": [
    "#Task3 \n",
    "'''22. Matrix Multiplication\n",
    "Objective: Multiply two matrices AAA and BBB.\n",
    "Input: Two 2D lists where the number of columns in AAA equals the number of rows in\n",
    "BBB.\n",
    "Output: A 2D list representing the product matrix.\n",
    "Hint: Multiply elements row-by-column and sum for each position in the result matrix.'''\n",
    "# Multiply two matrices\n",
    "def multiply_matrices(A, B):\n",
    "    result = []\n",
    "    for i in range(len(A)):\n",
    "        row = []\n",
    "        for j in range(len(B[0])):\n",
    "            val = 0\n",
    "            for k in range(len(B)):\n",
    "                val += A[i][k] * B[k][j]\n",
    "            row.append(val)\n",
    "        result.append(row)\n",
    "    return result\n",
    "rows_A = int(input(\"Enter rows for Matrix A: \"))\n",
    "cols_A = int(input(\"Enter columns for Matrix A: \"))\n",
    "rows_B = cols_A  # for valid multiplication\n",
    "cols_B = int(input(\"Enter columns for Matrix B: \"))\n",
    "print(\"Enter Matrix A:\")\n",
    "A = [[int(input(f\"A[{i}][{j}]: \")) for j in range(cols_A)] for i in range(rows_A)]\n",
    "print(\"Enter Matrix B:\")\n",
    "B = [[int(input(f\"B[{i}][{j}]: \")) for j in range(cols_B)] for i in range(rows_B)]\n",
    "print(\"Resultant Matrix after Multiplication:\")\n",
    "result = multiply_matrices(A, B)\n",
    "for row in result:\n",
    "    print(row)"
   ]
  },
  {
   "cell_type": "code",
   "execution_count": 9,
   "id": "e9ed9f76-0034-4418-8c98-24e51b04fa57",
   "metadata": {},
   "outputs": [
    {
     "name": "stdin",
     "output_type": "stream",
     "text": [
      "Enter numbers separated by space:  10 20 30 40 50 60\n"
     ]
    },
    {
     "name": "stdout",
     "output_type": "stream",
     "text": [
      "Second largest number is: 50\n"
     ]
    }
   ],
   "source": [
    "#Task3\n",
    "'''23. Find Second Largest\n",
    "Objective: Find the second largest number in a list.\n",
    "Input: A list of integers.\n",
    "Output: The second largest integer.\n",
    "Hint: Use sorting or iterate to find the largest, then the second largest.'''\n",
    "# Find second largest number\n",
    "def second_largest(numbers):\n",
    "    unique_numbers = list(set(numbers))  # Remove duplicates\n",
    "    unique_numbers.sort()\n",
    "    if len(unique_numbers) < 2:\n",
    "        return \"No second largest value.\"\n",
    "    return unique_numbers[-2]\n",
    "\n",
    "# Input\n",
    "numbers = list(map(int, input(\"Enter numbers separated by space: \").split()))\n",
    "\n",
    "# Output\n",
    "print(\"Second largest number is:\", second_largest(numbers))\n"
   ]
  },
  {
   "cell_type": "code",
   "execution_count": 11,
   "id": "2c5ba2b8-d3f7-4730-9220-266d3acfa190",
   "metadata": {},
   "outputs": [
    {
     "name": "stdin",
     "output_type": "stream",
     "text": [
      "Enter first string:  Hello\n",
      "Enter second string:  mom\n"
     ]
    },
    {
     "name": "stdout",
     "output_type": "stream",
     "text": [
      "They are not anagrams.\n"
     ]
    }
   ],
   "source": [
    "#Task3\n",
    "'''24. Check Anagram\n",
    "Objective: Check if two strings are anagrams (contain the same characters in any\n",
    "order).\n",
    "Input: Two strings.\n",
    "Output: True if anagrams, otherwise False.\n",
    "Hint: Use sorted() on both strings or count character occurrences using a dictionary.'''\n",
    "# Check if two strings are anagrams\n",
    "def are_anagrams(s1, s2):\n",
    "    return sorted(s1.lower()) == sorted(s2.lower())\n",
    "\n",
    "# Input\n",
    "s1 = input(\"Enter first string: \")\n",
    "s2 = input(\"Enter second string: \")\n",
    "\n",
    "# Output\n",
    "if are_anagrams(s1, s2):\n",
    "    print(\"They are anagrams.\")\n",
    "else:\n",
    "    print(\"They are not anagrams.\")\n"
   ]
  },
  {
   "cell_type": "code",
   "execution_count": null,
   "id": "ca9db076-fae0-4a57-a70a-71b9a02ff114",
   "metadata": {},
   "outputs": [],
   "source": []
  }
 ],
 "metadata": {
  "kernelspec": {
   "display_name": "Python 3 (ipykernel)",
   "language": "python",
   "name": "python3"
  },
  "language_info": {
   "codemirror_mode": {
    "name": "ipython",
    "version": 3
   },
   "file_extension": ".py",
   "mimetype": "text/x-python",
   "name": "python",
   "nbconvert_exporter": "python",
   "pygments_lexer": "ipython3",
   "version": "3.11.7"
  }
 },
 "nbformat": 4,
 "nbformat_minor": 5
}
